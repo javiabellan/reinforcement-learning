{
 "cells": [
  {
   "cell_type": "code",
   "execution_count": 1,
   "metadata": {},
   "outputs": [
    {
     "name": "stdout",
     "output_type": "stream",
     "text": [
      "Pytorch:      1.3.1 ( GPU: False )\n",
      "OpenAi Gym:   0.15.4\n"
     ]
    }
   ],
   "source": [
    "import math, random\n",
    "\n",
    "import gym\n",
    "import numpy as np\n",
    "\n",
    "import torch\n",
    "import torch.nn as nn\n",
    "import torch.optim as optim\n",
    "import torch.autograd as autograd \n",
    "import torch.nn.functional as F\n",
    "\n",
    "from collections import deque\n",
    "from IPython.display import clear_output\n",
    "import matplotlib.pyplot as plt\n",
    "%matplotlib inline\n",
    "\n",
    "print(\"Pytorch:     \", torch.__version__, \"( GPU:\", torch.cuda.is_available(),\")\")\n",
    "print(\"OpenAi Gym:  \", gym.__version__)"
   ]
  },
  {
   "cell_type": "markdown",
   "metadata": {},
   "source": [
    "# Cart Pole Environment"
   ]
  },
  {
   "cell_type": "code",
   "execution_count": 2,
   "metadata": {},
   "outputs": [],
   "source": [
    "env_id = \"CartPole-v0\"\n",
    "env = gym.make(env_id)\n",
    "SEE_ENV = False"
   ]
  },
  {
   "cell_type": "code",
   "execution_count": 3,
   "metadata": {},
   "outputs": [],
   "source": [
    "if SEE_ENV:\n",
    "    state = env.reset()\n",
    "\n",
    "    for _ in range(1000):\n",
    "        env.render()\n",
    "        action            = env.action_space.sample() # Random actions\n",
    "        state, _, done, _ = env.step(action)\n",
    "\n",
    "        if done:\n",
    "            state = env.reset()\n",
    "    env.close()"
   ]
  },
  {
   "cell_type": "markdown",
   "metadata": {},
   "source": [
    "# Replay Buffer"
   ]
  },
  {
   "cell_type": "code",
   "execution_count": 4,
   "metadata": {},
   "outputs": [],
   "source": [
    "class ReplayBuffer(object):\n",
    "    def __init__(self, capacity):\n",
    "        self.buffer = deque(maxlen=capacity)\n",
    "    \n",
    "    def push(self, state, action, reward, next_state, done):\n",
    "        self.buffer.append((state, action, reward, next_state, done))\n",
    "    \n",
    "    def sample(self, batch_size):\n",
    "        state, action, reward, next_state, done = zip(*random.sample(self.buffer, batch_size))\n",
    "        return np.vstack(state), action, reward, np.vstack(next_state), done\n",
    "    \n",
    "    def __len__(self):\n",
    "        return len(self.buffer)"
   ]
  },
  {
   "cell_type": "markdown",
   "metadata": {},
   "source": [
    "# Deep Q Network"
   ]
  },
  {
   "cell_type": "code",
   "execution_count": 5,
   "metadata": {},
   "outputs": [],
   "source": [
    "class DQN(nn.Module):\n",
    "    \n",
    "    def __init__(self, num_inputs, num_hidden, num_actions):\n",
    "        super(DQN, self).__init__()\n",
    "        self.fc1  = nn.Linear(num_inputs, num_hidden)\n",
    "        self.fc2  = nn.Linear(num_hidden, num_hidden)\n",
    "        self.fc3  = nn.Linear(num_hidden, num_actions)\n",
    "    \n",
    "    def forward(self, state):\n",
    "        x = F.relu(self.fc1(state))\n",
    "        x = F.relu(self.fc2(x))\n",
    "        return self.fc3(x)\n",
    "    \n",
    "    def act(self, stateNumpy, epsilon):\n",
    "        if random.random() > epsilon:\n",
    "            stateTensor   = torch.from_numpy(stateNumpy)\n",
    "            actionsTensor = self.forward(stateTensor.float())\n",
    "            return actionsTensor.argmax().item()\n",
    "        \n",
    "        else:\n",
    "            action = random.randrange(env.action_space.n)\n",
    "        return action"
   ]
  },
  {
   "cell_type": "markdown",
   "metadata": {},
   "source": [
    "# Epsilon greedy exploration"
   ]
  },
  {
   "cell_type": "code",
   "execution_count": 17,
   "metadata": {},
   "outputs": [
    {
     "data": {
      "image/png": "[encoded data removed]",
      "text/plain": [
       "<Figure size 432x288 with 1 Axes>"
      ]
     },
     "metadata": {
      "needs_background": "light"
     },
     "output_type": "display_data"
    }
   ],
   "source": [
    "ITERATIONS = 10000\n",
    "EPS_START  = 1\n",
    "EPS_END    = 0.01\n",
    "EPS_DECAY  = 500\n",
    "\n",
    "def prob_actionRandom(timestamp):\n",
    "    return EPS_END + (EPS_START - EPS_END) * math.exp(-1. * timestamp / EPS_DECAY)\n",
    "\n",
    "plt.title('Probability of random action')\n",
    "plt.xlabel('Iterations (Training time)')\n",
    "plt.plot([prob_actionRandom(i) for i in range(ITERATIONS)]);"
   ]
  },
  {
   "cell_type": "markdown",
   "metadata": {},
   "source": [
    "## Computing Temporal Difference Loss"
   ]
  },
  {
   "cell_type": "code",
   "execution_count": 7,
   "metadata": {},
   "outputs": [],
   "source": [
    "def compute_td_loss(batch_size, gamma):\n",
    "    \n",
    "    # 1) Get batch from reply buffer memory\n",
    "    state, action, reward, next_state, done = replay_mem.sample(batch_size)\n",
    "    state      = torch.FloatTensor(state)      # [BS, INPUT_STATE]\n",
    "    next_state = torch.FloatTensor(next_state) # [BS, INPUT_STATE]\n",
    "    action     = torch.LongTensor(action)      # [BS]\n",
    "    reward     = torch.FloatTensor(reward)     # [BS]\n",
    "    done       = torch.FloatTensor(done)       # [BS]\n",
    "\n",
    "    # 2) Compute Q values\n",
    "    q_values      = model(state)               # [BS, OUTPUT_ACTIONS]\n",
    "    next_q_values = model(next_state)          # [BS, OUTPUT_ACTIONS]\n",
    "\n",
    "    q_value          = q_values.gather(1, action.unsqueeze(1)).squeeze(1) # [BS]\n",
    "    next_q_value     = next_q_values.max(1)[0]                            # [BS]\n",
    "    expected_q_value = reward + gamma * next_q_value * (1 - done)         # [BS]\n",
    "    \n",
    "    # 3) Compute loss\n",
    "    loss = (q_value - expected_q_value.data).pow(2).mean()\n",
    "    \n",
    "    # 4) Optimize\n",
    "    optimizer.zero_grad()\n",
    "    loss.backward()\n",
    "    optimizer.step()\n",
    "    \n",
    "    return loss"
   ]
  },
  {
   "cell_type": "code",
   "execution_count": 8,
   "metadata": {},
   "outputs": [],
   "source": [
    "def plot(frame_idx, rewards, losses):\n",
    "    clear_output(True)\n",
    "    plt.figure(figsize=(20,5))\n",
    "    \n",
    "    plt.subplot(131)\n",
    "    plt.title('Iter %s. Reward: %s' % (frame_idx, np.mean(rewards[-10:])))\n",
    "    plt.plot(rewards)\n",
    "    \n",
    "    plt.subplot(132)\n",
    "    plt.title('Loss')\n",
    "    plt.plot(losses, color=\"green\")\n",
    "    \n",
    "    plt.show()"
   ]
  },
  {
   "cell_type": "markdown",
   "metadata": {},
   "source": [
    "# Constants"
   ]
  },
  {
   "cell_type": "code",
   "execution_count": 9,
   "metadata": {},
   "outputs": [],
   "source": [
    "# Model\n",
    "INPUT_STATE    = env.observation_space.shape[0]\n",
    "NUM_HIDDEN     = 128\n",
    "OUTPUT_ACTIONS = env.action_space.n\n",
    "\n",
    "# Replay buffer memory\n",
    "MAX_MEM    = 1000\n",
    "\n",
    "# Training\n",
    "NUM_ITERS  = 10000\n",
    "BATH_SIZE  = 32\n",
    "GAMMA      = 0.99"
   ]
  },
  {
   "cell_type": "markdown",
   "metadata": {},
   "source": [
    "# Main loop training"
   ]
  },
  {
   "cell_type": "code",
   "execution_count": 10,
   "metadata": {},
   "outputs": [
    {
     "data": {
      "image/png": "[encoded data removed]",
      "text/plain": [
       "<Figure size 1440x360 with 2 Axes>"
      ]
     },
     "metadata": {
      "needs_background": "light"
     },
     "output_type": "display_data"
    }
   ],
   "source": [
    "model      = DQN(INPUT_STATE, NUM_HIDDEN, OUTPUT_ACTIONS).float()\n",
    "optimizer  = optim.Adam(model.parameters())\n",
    "replay_mem = ReplayBuffer(MAX_MEM)\n",
    "\n",
    "# LOGGING\n",
    "losses  = []; episode_losses = []\n",
    "rewards = []; episode_reward = 0\n",
    "\n",
    "state = env.reset()\n",
    "for i in range(1, NUM_ITERS + 1):\n",
    "    epsilon = prob_actionRandom(i)                           # Decrease the perecentage of random action\n",
    "    action = model.act(state, epsilon)                       # Select action from the agent\n",
    "    next_state, reward, done, _ = env.step(action)           # Perform action in the enviroment\n",
    "    replay_mem.push(state, action, reward, next_state, done) # Store the transition in memory\n",
    "    state = next_state                                       # Define next state\n",
    "    episode_reward += reward                                 # Store reward\n",
    "    \n",
    "    if done:\n",
    "        state = env.reset()\n",
    "        rewards.append(episode_reward)\n",
    "        episode_reward = 0\n",
    "        if len(episode_losses) > 0:\n",
    "            losses.append(sum(episode_losses) / len(episode_losses) )\n",
    "            episode_losses = []\n",
    "        \n",
    "    if len(replay_mem) > BATH_SIZE:\n",
    "        loss = compute_td_loss(BATH_SIZE, GAMMA)\n",
    "        episode_losses.append(loss.item())\n",
    "        \n",
    "    if i%200 == 0:\n",
    "        plot(i, rewards, losses)"
   ]
  },
  {
   "cell_type": "markdown",
   "metadata": {},
   "source": [
    "# Test agent"
   ]
  },
  {
   "cell_type": "code",
   "execution_count": 15,
   "metadata": {},
   "outputs": [],
   "source": [
    "state = env.reset()\n",
    "env.close()"
   ]
  },
  {
   "cell_type": "code",
   "execution_count": 16,
   "metadata": {},
   "outputs": [],
   "source": [
    "state = env.reset()\n",
    "\n",
    "for _ in range(1000):\n",
    "    env.render()            \n",
    "    action = model.act(state, epsilon=0)        # Select action from the agent\n",
    "    next_state, reward, done, _ = env.step(action) # Perform action in the enviroment\n",
    "    state = next_state                             # Define the next state\n",
    "        \n",
    "    if done:\n",
    "        state = env.reset()\n",
    "        \n",
    "env.close()"
   ]
  },
  {
   "cell_type": "code",
   "execution_count": null,
   "metadata": {},
   "outputs": [],
   "source": []
  }
 ],
 "metadata": {
  "kernelspec": {
   "display_name": "Python 3",
   "language": "python",
   "name": "python3"
  },
  "language_info": {
   "codemirror_mode": {
    "name": "ipython",
    "version": 3
   },
   "file_extension": ".py",
   "mimetype": "text/x-python",
   "name": "python",
   "nbconvert_exporter": "python",
   "pygments_lexer": "ipython3",
   "version": "3.7.4"
  }
 },
 "nbformat": 4,
 "nbformat_minor": 2
}
