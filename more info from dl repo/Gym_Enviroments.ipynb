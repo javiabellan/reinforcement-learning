{
  "cells": [
    {
      "cell_type": "markdown",
      "metadata": {
        "id": "tqdoVdyTnO1B"
      },
      "source": [
        "### [Udacity solution LunarLander DQN](https://github.com/udacity/deep-reinforcement-learning/tree/master/dqn/solution)\n",
        "### [Pytorch tutorial DQN CartPole](https://pytorch.org/tutorials/intermediate/reinforcement_q_learning.html)"
      ]
    },
    {
      "cell_type": "code",
      "execution_count": null,
      "metadata": {
        "id": "J4FeryIxnO1D",
        "outputId": "62e76235-df8d-4755-cce9-243e1dd21618"
      },
      "outputs": [
        {
          "name": "stdout",
          "output_type": "stream",
          "text": [
            "Pytorch:      1.3.1 ( GPU: False )\n",
            "OpenAi Gym:   0.15.4\n",
            "Fastprogress: 0.1.22\n"
          ]
        }
      ],
      "source": [
        "import gym\n",
        "\n",
        "import torch\n",
        "import torch.nn as nn\n",
        "import torch.nn.functional as F\n",
        "import torch.optim as optim\n",
        "\n",
        "import numpy as np\n",
        "import random\n",
        "import fastprogress\n",
        "from tqdm import tqdm_notebook as tqdm\n",
        "from collections import namedtuple\n",
        "\n",
        "import matplotlib.pyplot as plt\n",
        "%matplotlib inline\n",
        "\n",
        "print(\"Pytorch:     \", torch.__version__, \"( GPU:\", torch.cuda.is_available(),\")\")\n",
        "print(\"OpenAi Gym:  \", gym.__version__)\n",
        "print(\"Fastprogress:\", fastprogress.__version__)"
      ]
    },
    {
      "cell_type": "code",
      "execution_count": null,
      "metadata": {
        "id": "j9baOW6MnO1F",
        "outputId": "50f0ab34-566e-4415-84a9-647b494dadd1"
      },
      "outputs": [
        {
          "data": {
            "text/plain": [
              "0"
            ]
          },
          "execution_count": 20,
          "metadata": {},
          "output_type": "execute_result"
        }
      ],
      "source": [
        "torch.cuda.device_count()"
      ]
    },
    {
      "cell_type": "code",
      "execution_count": null,
      "metadata": {
        "id": "iGXFwCIDnO1G"
      },
      "outputs": [],
      "source": [
        "######################### Classic control\n",
        "doblePendulo    = \"Acrobot-v1\"\n",
        "paloBalanceado  = \"CartPole-v1\"\n",
        "cocheColina     = \"MountainCar-v0\"\n",
        "cocheColinaCont = \"MountainCarContinuous-v0\"\n",
        "pendulo         = \"Pendulum-v0\"\n",
        "\n",
        "######################### Box2D\n",
        "BipedalWalker         = \"BipedalWalker-v2\"\n",
        "BipedalWalkerHardcore = \"BipedalWalkerHardcore-v2\"\n",
        "CarRacing             = \"CarRacing-v0\"\n",
        "LunarLander           = \"LunarLander-v2\"\n",
        "LunarLanderContinuous = \"LunarLanderContinuous-v2\""
      ]
    },
    {
      "cell_type": "code",
      "execution_count": null,
      "metadata": {
        "id": "voSZV-hxnO1G",
        "outputId": "9470941c-8348-4569-9cb5-f615614fc403"
      },
      "outputs": [
        {
          "name": "stdout",
          "output_type": "stream",
          "text": [
            "INPUT  (Observation):  Box(8,)\n",
            "OUTPUT (Agent action): Discrete(4)\n"
          ]
        }
      ],
      "source": [
        "env = gym.make(LunarLander)\n",
        "print(\"INPUT  (Observation): \", env.observation_space)\n",
        "print(\"OUTPUT (Agent action):\", env.action_space)"
      ]
    },
    {
      "cell_type": "code",
      "execution_count": null,
      "metadata": {
        "id": "DXmJeoa_nO1G",
        "outputId": "24967813-bb49-4ad0-8bdc-6ba30d8156eb"
      },
      "outputs": [
        {
          "name": "stdout",
          "output_type": "stream",
          "text": [
            "\tmin: [-inf -inf -inf -inf -inf -inf -inf -inf]\n",
            "\tmax: [inf inf inf inf inf inf inf inf]\n"
          ]
        }
      ],
      "source": [
        "print(\"\\tmin:\",env.observation_space.low)\n",
        "print(\"\\tmax:\",env.observation_space.high)"
      ]
    },
    {
      "cell_type": "code",
      "execution_count": null,
      "metadata": {
        "scrolled": false,
        "id": "OMIl5HQQnO1G"
      },
      "outputs": [],
      "source": [
        "state = env.reset()\n",
        "\n",
        "for _ in range(400):\n",
        "    #env.render()\n",
        "    action = env.action_space.sample() # your agent here (this takes random actions)\n",
        "    state, reward, done, info = env.step(action)\n",
        "    \n",
        "    if done:\n",
        "        state = env.reset()\n",
        "env.close()"
      ]
    },
    {
      "cell_type": "markdown",
      "metadata": {
        "id": "o4gy_dsFnO1H"
      },
      "source": [
        "# LunarLander-v2 (Discrete)\n",
        "\n",
        "### [Paper solution](https://www.researchgate.net/publication/333145451_Deep_Q-Learning_on_Lunar_Lander_Game)\n",
        "\n",
        "### INPUT (8)\n",
        "\n",
        "- Agent’s position $(x, y)$ in space\n",
        "- Horizontal and vertical velocity ($v_x, v_y$)\n",
        "- Orientation in space $\\theta$\n",
        "- Angular velocity $v_\\theta$\n",
        "- 2 bool flags indicating whether the left/right foot  is in contact with the ground.\n",
        "\n",
        "### OUTPUT (4) (Discrete)\n",
        "- `0`: Do nothing\n",
        "- `1`: Fire left engine\n",
        "- `2`: Fire down engine\n",
        "- `3`: Fire right engine\n",
        "\n",
        "### REWARD\n",
        "- discounted\n",
        "- cumulative\n",
        "- From -300 to 300\n",
        "\n",
        "![](https://miro.medium.com/max/740/1*i7lxpgt2K3Q8lgEPJu3_xA.png)"
      ]
    },
    {
      "cell_type": "markdown",
      "metadata": {
        "id": "9tk0TXMcnO1H"
      },
      "source": [
        "# Utils"
      ]
    },
    {
      "cell_type": "code",
      "execution_count": null,
      "metadata": {
        "id": "zFYSlsjgnO1H",
        "outputId": "3318f3f9-9061-4c3d-bdcd-8da1986c78dc"
      },
      "outputs": [
        {
          "data": {
            "text/plain": [
              "device(type='cpu')"
            ]
          },
          "execution_count": 7,
          "metadata": {},
          "output_type": "execute_result"
        }
      ],
      "source": [
        "def copyNet(source, target):\n",
        "    target.load_state_dict(source.state_dict())\n",
        "    \n",
        "DEVICE = torch.device(\"cuda:0\" if torch.cuda.is_available() else \"cpu\")\n",
        "DEVICE"
      ]
    },
    {
      "cell_type": "markdown",
      "metadata": {
        "id": "zraX3FMynO1I"
      },
      "source": [
        "# Agent (Neural Net)"
      ]
    },
    {
      "cell_type": "code",
      "execution_count": null,
      "metadata": {
        "id": "IxEzP72pnO1I",
        "outputId": "94ca8f63-61c4-464a-d404-61d7c6824354"
      },
      "outputs": [
        {
          "name": "stdout",
          "output_type": "stream",
          "text": [
            "INPUT (state):    tensor([ 0.0032,  1.4043,  0.3213, -0.2930, -0.0037, -0.0728,  0.0000,  0.0000])\n",
            "OUTPUT (actions): tensor([ 0.0874, -0.0445, -0.0489, -0.0419], grad_fn=<AddBackward0>)\n",
            "Selected output:  0\n"
          ]
        }
      ],
      "source": [
        "class Agent(nn.Module):\n",
        "\n",
        "    def __init__(self, state_size, action_size, seed=0, fc1_units=64, fc2_units=64):\n",
        "        super(Agent, self).__init__()\n",
        "        self.seed = torch.manual_seed(seed)\n",
        "        self.fc1  = nn.Linear(state_size, fc1_units)\n",
        "        self.fc2  = nn.Linear(fc1_units, fc2_units)\n",
        "        self.fc3  = nn.Linear(fc2_units, action_size)\n",
        "\n",
        "    def forward(self, state):\n",
        "        x = F.relu(self.fc1(state))\n",
        "        x = F.relu(self.fc2(x))\n",
        "        return self.fc3(x)\n",
        "    \n",
        "    def chooseAction(self, stateNumpy):\n",
        "        stateTensor   = torch.from_numpy(stateNumpy)\n",
        "        actionsTensor = self.forward(stateTensor)\n",
        "        return outputTensor.argmax().item()\n",
        "\n",
        "policy_net = Agent(state_size=8, action_size=4).to(DEVICE) # Actor for compute rewards\n",
        "target_net = Agent(state_size=8, action_size=4).to(DEVICE) # Learn from actor episodes\n",
        "copyNet(source=policy_net, target=target_net)\n",
        "target_net.eval()\n",
        "\n",
        "############################ TEST AGENT\n",
        "inputNumpy   = env.reset()\n",
        "inputTensor  = torch.from_numpy(inputNumpy)#.unsqueeze(0).to(DEVICE)\n",
        "outputTensor = policy_net(inputTensor)\n",
        "\n",
        "print(\"INPUT (state):   \", inputTensor)\n",
        "print(\"OUTPUT (actions):\", outputTensor)\n",
        "print(\"Selected output: \", outputTensor.argmax().item())"
      ]
    },
    {
      "cell_type": "markdown",
      "metadata": {
        "id": "IzPlXTImnO1I"
      },
      "source": [
        "# Memory\n",
        "Stores the transitions that the agent observes, allowing us to reuse this data later."
      ]
    },
    {
      "cell_type": "code",
      "execution_count": null,
      "metadata": {
        "id": "3b44dRBQnO1I"
      },
      "outputs": [],
      "source": [
        "Transition = namedtuple(\"Transition\", (\"state\", \"action\", \"next_state\", \"reward\", \"done\"))\n",
        "\n",
        "\n",
        "class PlayMemory(object):\n",
        "\n",
        "    def __init__(self):\n",
        "        #self.capacity = capacity\n",
        "        #self.position = 0\n",
        "        self.transitions = []\n",
        "\n",
        "    def push(self, *args):\n",
        "        #\"\"\"Saves a transition.\"\"\"\n",
        "        #if len(self.transitions) < self.capacity:\n",
        "        #    self.transitions.append(None)\n",
        "        #self.transitions[self.position] = Transition(*args)\n",
        "        #self.position = (self.position + 1) % self.capacity\n",
        "        self.transitions.append(Transition(*args))\n",
        "\n",
        "    def sample(self, batch_size):\n",
        "        sampleTransitions = random.sample(self.transitions, batch_size)\n",
        "        states      = torch.from_numpy(np.vstack([t.state      for t in sampleTransitions if t is not None])).float().to(DEVICE)\n",
        "        actions     = torch.from_numpy(np.vstack([t.action     for t in sampleTransitions if t is not None])).long().to(DEVICE)\n",
        "        rewards     = torch.from_numpy(np.vstack([t.reward     for t in sampleTransitions if t is not None])).float().to(DEVICE)\n",
        "        next_states = torch.from_numpy(np.vstack([t.next_state for t in sampleTransitions if t is not None])).float().to(DEVICE)\n",
        "        dones       = torch.from_numpy(np.vstack([t.done       for t in sampleTransitions if t is not None]).astype(np.uint8)).float().to(DEVICE)\n",
        "  \n",
        "        return (states, actions, rewards, next_states, dones)\n",
        "\n",
        "    def __len__(self):\n",
        "        return len(self.transitions)"
      ]
    },
    {
      "cell_type": "markdown",
      "metadata": {
        "id": "IfkP9VPVnO1J"
      },
      "source": [
        "# Train"
      ]
    },
    {
      "cell_type": "code",
      "execution_count": null,
      "metadata": {
        "id": "aexq9AWBnO1J"
      },
      "outputs": [],
      "source": [
        "EPISODES         = 200 # Number of training gameplays (2000)\n",
        "MAX_ITER_EPISODE = 1000 # Max number of iterations per episode\n",
        "\n",
        "BATCH_SIZE  = 64     # minibatch size\n",
        "GAMMA = 0.99         # discount factor\n",
        "TAU = 1e-3           # interpolation parameter for soft update of target parameters\n",
        "LR = 5e-4            # learning rate \n",
        "TARGET_UPDATE = 4    # How often to update the target network (num episodes)\n",
        "\n",
        "eps_start=1.0\n",
        "eps_end=0.01\n",
        "eps_decay=0.995\n",
        "\n",
        "memory    = PlayMemory()\n",
        "#optimizer = optim.RMSprop(policy_net.parameters())\n",
        "optimizer = optim.Adam(policy_net.parameters(), lr=LR)"
      ]
    },
    {
      "cell_type": "markdown",
      "metadata": {
        "id": "TV_xk9cBnO1J"
      },
      "source": [
        "# Optimization"
      ]
    },
    {
      "cell_type": "code",
      "execution_count": null,
      "metadata": {
        "id": "1sxCfAH3nO1J"
      },
      "outputs": [],
      "source": [
        "def optimize_model():\n",
        "    \n",
        "    ############# 1) GET BATCH FROM PLAYED MEMORY \n",
        "    \n",
        "    states, actions, rewards, next_states, dones = memory.sample(BATCH_SIZE)\n",
        "\n",
        "    \n",
        "    ############# 2) EXPECTED: State + Actions\n",
        "        \n",
        "    # Compute Q(s_t, a) - the model computes Q(s_t), then we select the\n",
        "    # columns of actions taken. These are the actions which would've been taken\n",
        "    # for each batch state according to policy_net\n",
        "    Q_expected = policy_net(states).gather(1, actions)\n",
        "\n",
        "    \n",
        "    ############# 3) OBTAINED: State + Actions\n",
        "    \n",
        "    # Get max predicted Q values (for next states) from target model\n",
        "    Q_targets_next = target_net(next_states).detach().max(1)[0].unsqueeze(1)\n",
        "    # Compute Q targets for current states \n",
        "    Q_targets = rewards + (GAMMA * Q_targets_next * (1 - dones))\n",
        "\n",
        "    \n",
        "    ############# 4) COMPUTE LOSS\n",
        "    \n",
        "    loss = F.mse_loss(Q_expected, Q_targets)\n",
        "    \n",
        "    # Huber loss\n",
        "    #loss = F.smooth_l1_loss(Q_expected, Q_targets)\n",
        "\n",
        "    ############# 5) OPTIMIZE THE MODEL\n",
        "    \n",
        "    optimizer.zero_grad()\n",
        "    loss.backward()\n",
        "    #for param in policy_net.parameters():\n",
        "    #    param.grad.data.clamp_(-1, 1)\n",
        "    optimizer.step()\n",
        "    \n",
        "    \n",
        "    ############# 6) Soft update model parameters. τ*θ_local + (1 - τ)*θ_target\n",
        "    \n",
        "    for target_param, local_param in zip(target_net.parameters(), policy_net.parameters()):\n",
        "        target_param.data.copy_(TAU*local_param.data + (1.0-TAU)*target_param.data)"
      ]
    },
    {
      "cell_type": "markdown",
      "metadata": {
        "id": "MKAWqnhEnO1K"
      },
      "source": [
        "# Main loop (deep Q-Learning)"
      ]
    },
    {
      "cell_type": "code",
      "execution_count": null,
      "metadata": {
        "id": "HSTnjAu7nO1K",
        "outputId": "e3822a7d-6a10-4057-aa4f-6daa607718d5"
      },
      "outputs": [
        {
          "data": {
            "text/html": [],
            "text/plain": [
              "<IPython.core.display.HTML object>"
            ]
          },
          "metadata": {},
          "output_type": "display_data"
        },
        {
          "data": {
            "image/png": "[encoded data removed]",
            "text/plain": [
              "<Figure size 432x288 with 1 Axes>"
            ]
          },
          "metadata": {},
          "output_type": "display_data"
        },
        {
          "name": "stdout",
          "output_type": "stream",
          "text": [
            "Complete\n"
          ]
        }
      ],
      "source": [
        "rewards  = []\n",
        "episodes = []\n",
        "\n",
        "mb = fastprogress.master_bar(range(EPISODES))\n",
        "mb.names = ['Reward']\n",
        "for i_episode in mb: ######## ALL APISODES\n",
        "    \n",
        "    state = env.reset()\n",
        "    accumulativeReward = 0\n",
        "    for t in range(MAX_ITER_EPISODE): ######## ITERATE EPISODE TRANSITIONS\n",
        "        \n",
        "        action = policy_net.chooseAction(state)              # Select action from the agent\n",
        "        next_state, reward, done, _ = env.step(action)       # Perform action in the enviroment\n",
        "        memory.push(state, action, next_state, reward, done) # Store the transition in memory\n",
        "        state = next_state                                   # Define next state\n",
        "        accumulativeReward += reward                         # Store reward\n",
        "\n",
        "        # If the playMemory has enough data, then optimize\n",
        "        # Perform one step of the optimization (on the target network)\n",
        "        if len(memory) >= BATCH_SIZE:\n",
        "            optimize_model()\n",
        "        \n",
        "        if done:\n",
        "            break\n",
        "            \n",
        "    \n",
        "    # Update the target network, copying all weights and biases\n",
        "    if i_episode % TARGET_UPDATE == 0:\n",
        "        copyNet(source=policy_net, target=target_net)\n",
        "        \n",
        "    rewards.append(accumulativeReward)\n",
        "    episodes.append(i_episode)\n",
        "    \n",
        "    # CHART\n",
        "    graphs = [[episodes,rewards]]\n",
        "    mb.update_graph(graphs)\n",
        "\n",
        "print('Complete')"
      ]
    },
    {
      "cell_type": "markdown",
      "metadata": {
        "id": "b5O8PjUPnO1K"
      },
      "source": [
        "# Test agent in the enviroment"
      ]
    },
    {
      "cell_type": "code",
      "execution_count": null,
      "metadata": {
        "id": "rNPIQzt-nO1K"
      },
      "outputs": [],
      "source": [
        "state = env.reset()\n",
        "\n",
        "for _ in range(1000):\n",
        "    env.render()            \n",
        "    action = policy_net.chooseAction(state)        # Select action from the agent\n",
        "    next_state, reward, done, _ = env.step(action) # Perform action in the enviroment\n",
        "    #memory.push(state, action, next_state, reward, done) # Store the transition in memory\n",
        "    state = next_state                             # Define the next state\n",
        "        \n",
        "    if done:\n",
        "        state = env.reset()\n",
        "        \n",
        "env.close()"
      ]
    },
    {
      "cell_type": "code",
      "execution_count": null,
      "metadata": {
        "id": "R2FFOwjbnO1L"
      },
      "outputs": [],
      "source": []
    }
  ],
  "metadata": {
    "kernelspec": {
      "display_name": "Python 3",
      "language": "python",
      "name": "python3"
    },
    "language_info": {
      "codemirror_mode": {
        "name": "ipython",
        "version": 3
      },
      "file_extension": ".py",
      "mimetype": "text/x-python",
      "name": "python",
      "nbconvert_exporter": "python",
      "pygments_lexer": "ipython3",
      "version": "3.8.1"
    },
    "colab": {
      "provenance": []
    }
  },
  "nbformat": 4,
  "nbformat_minor": 0
}